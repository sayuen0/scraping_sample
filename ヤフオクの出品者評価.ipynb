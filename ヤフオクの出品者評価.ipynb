{
 "cells": [
  {
   "cell_type": "code",
   "execution_count": 2,
   "metadata": {},
   "outputs": [],
   "source": [
    "import requests\n",
    "from bs4 import BeautifulSoup\n",
    "import re\n",
    "import os\n",
    "from time import sleep\n",
    "import pandas as pd\n",
    "from datetime import datetime"
   ]
  },
  {
   "cell_type": "code",
   "execution_count": 3,
   "metadata": {},
   "outputs": [
    {
     "name": "stdout",
     "output_type": "stream",
     "text": [
      "2325 3\n"
     ]
    }
   ],
   "source": [
    "url = \"https://page.auctions.yahoo.co.jp/jp/auction/e388276340\"\n",
    "r = requests.get(url)\n",
    "soup = BeautifulSoup(r.text, \"html.parser\")\n",
    "\n",
    "# 良い評価と悪い評価\n",
    "target = soup.select(\".decPwrBox table tr:nth-child(2) td\")[0]\n",
    "target = str(target)\n",
    "p = re.compile(r\"<[^>]*?>\") #余計な<b>やら<span>やら<img>やらを取り除く \n",
    "target = p.sub(\"\",target).replace(\"\\n\", \"\").replace(\"\\xa0\", \"\") #余計な改行文字や全角空白を取り除く\n",
    "pe = re.compile(r\"(\\d+-\\d+)\") # (良い評価(数値)-悪い評価(数値)) 例： (921-1) の形式で入っているので、その部分だけ抽出する\n",
    "evals = pe.search(target).group().split(\"-\")\n",
    "good = evals[0] #良い評価\n",
    "bad = evals[1] #悪い評価\n",
    "print(good, bad)\n",
    "\n",
    "# good = soup.select(\"\")\n",
    "# bad = soup.select(\"\")"
   ]
  },
  {
   "cell_type": "code",
   "execution_count": 61,
   "metadata": {},
   "outputs": [
    {
     "data": {
      "text/plain": [
       "<re.Match object; span=(0, 7), match='_100-1_'>"
      ]
     },
     "execution_count": 61,
     "metadata": {},
     "output_type": "execute_result"
    }
   ],
   "source": [
    "p = re.compile(\"_\\d+-\\d+_\")\n",
    "# p.match(\"(100-1)\".).group()\n",
    "target = \"(100-1)\".replace(\"(\", \"_\").replace(\")\", \"_\")\n",
    "target\n",
    "p.match(target)\n"
   ]
  },
  {
   "cell_type": "code",
   "execution_count": null,
   "metadata": {},
   "outputs": [],
   "source": []
  }
 ],
 "metadata": {
  "kernelspec": {
   "display_name": "Python 3",
   "language": "python",
   "name": "python3"
  },
  "language_info": {
   "codemirror_mode": {
    "name": "ipython",
    "version": 3
   },
   "file_extension": ".py",
   "mimetype": "text/x-python",
   "name": "python",
   "nbconvert_exporter": "python",
   "pygments_lexer": "ipython3",
   "version": "3.7.4"
  }
 },
 "nbformat": 4,
 "nbformat_minor": 2
}
