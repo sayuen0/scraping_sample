{
 "cells": [
  {
   "cell_type": "code",
   "execution_count": 2,
   "metadata": {},
   "outputs": [],
   "source": [
    "import requests\n",
    "from bs4 import BeautifulSoup\n",
    "import re\n",
    "import os\n",
    "from time import sleep\n",
    "import pandas as pd"
   ]
  },
  {
   "cell_type": "code",
   "execution_count": 4,
   "metadata": {},
   "outputs": [],
   "source": [
    "#2019-03-12みたいな日付けを作る\n",
    "def formatted_today():\n",
    "    import datetime\n",
    "    now = datetime.datetime.now()\n",
    "    today = \"{0:%Y-%m-%d}\".format(now)\n",
    "    return today\n",
    "\n",
    "def print_line():\n",
    "    print(\"---------------------------------------------------------------------------------------------------------------------------------------\")\n",
    "\n",
    "def sleep_(sec):\n",
    "    print(\"過剰な連続リクエスト回避のsleep:\"+str(sec)+\"秒\")\n",
    "    sleep(sec)\n",
    "    \n",
    "#     ページ数。[1,2,3,4,...,47,48]\n",
    "def page_count_list():\n",
    "    return list(range(1,49))\n",
    "\n",
    "\n",
    "def get_save(query_name, url):\n",
    "\n",
    "    print(\"クローリングを開始します\")\n",
    "    print(\"アーティスト名: \"+query_name)\n",
    "    \n",
    "\n",
    "#     ページ数。[1,2,3,4,...,47,48]\n",
    "    page_list =page_count_list()\n",
    "    \n",
    "#   iにはpage_listのインデックス、すなわち[0,1,2,3,4,5,...]\n",
    "#  page　には値、すなわち[1,101,201,301]が入る\n",
    "    for i, page in enumerate(page_list):\n",
    "        \n",
    "        print(query_name+\"の\"+str(i)+\" ページ目のクローリングを開始...\")\n",
    "\n",
    "        r = requests.get(url+\"&page=\"+str(page))\n",
    "        soup = BeautifulSoup(r.text, \"html.parser\")\n",
    "        print(str(i)+\"ページ目取得完了...\")\n",
    "        \n",
    "#         以下保存部分\n",
    "# 日付けからディレクトリ作成\n",
    "        date = formatted_today()\n",
    "        combined_path = query_name+\"/\"+date\n",
    "        os.makedirs(combined_path, exist_ok=True)\n",
    "#     書き込み\n",
    "        with open (combined_path+\"/\"+\"ticket-data\"+str(i)+\".html\", mode=\"w\", encoding=\"utf-8\") as fw:\n",
    "            fw.write(soup.prettify())\n",
    "            print(query_name+\"の\"+str(i)+\"ページ目の保存中...\")\n",
    "\n",
    "        print(query_name+\"の\"+str(i)+\" ページ目のクローリングを完了しました。\")\n",
    "        sleep_(2)\n",
    "        \n",
    "\n",
    "\n",
    "# get_save(url, name)\n",
    "\n",
    "# # ページすうをあとでつける\n",
    "# url = \"https://www.mercari.com/jp/search/?keyword=airpods%20%E7%AC%AC2%E4%B8%96%E4%BB%A3%E3%80%80%E6%96%B0%E5%93%81&&_s=U2FsdGVkX1_fXyA9yYV5SWejOtE8F_aJIF8wihQGqubuS0ooF9fzE2Bt83LFAo7ipxpXqkpYIZxoAdliIzNBL-tz9hxeBYfgmMyvZKx7QaM\"\n",
    "# name =\"メルカリ\"\n",
    "# get_save(name,url)\n",
    "\n",
    "\n",
    "# print_line()\n",
    "# print(\"全アーティストのクローリングを完了しました\")\n",
    "# print_line()\n",
    "\n",
    "# 禁止されているらしい"
   ]
  },
  {
   "cell_type": "code",
   "execution_count": 14,
   "metadata": {},
   "outputs": [],
   "source": [
    "soup = BeautifulSoup(open(\"メルカリ/2019-09-11/メルカリairpods.html\"),\"html.parser\")\n",
    "\n",
    "df = pd.DataFrame()\n",
    "\n",
    "def add_name(dataframe, soup):\n",
    "    name_list = soup.select(\".items-box-name\")\n",
    "    result = []\n",
    "    for name in name_list:\n",
    "        result.append(name.string)\n",
    "    df[\"商品名\"] = result\n",
    "    return df\n",
    "    \n",
    "def add_price(dataframe,soup):\n",
    "    price_list =soup.select(\".items-box-price\")\n",
    "    result = []\n",
    "    for price in price_list:\n",
    "        result.append(int(price.string.replace(\"¥\",\"\").replace(\",\",\"\")))\n",
    "    df[\"価格\"] = result\n",
    "    return df\n",
    "        \n",
    "df = add_name(df,soup)\n",
    "df = add_price(df,soup)"
   ]
  },
  {
   "cell_type": "code",
   "execution_count": 16,
   "metadata": {},
   "outputs": [],
   "source": [
    "df.to_csv(\"CSV/メルカリ.csv\")\n"
   ]
  },
  {
   "cell_type": "code",
   "execution_count": null,
   "metadata": {},
   "outputs": [],
   "source": [
    "# 探している文字列 in 対象の文字列\n",
    "\n",
    "# df[\"メモの魔力\" in df[\"Name\"]]\n",
    "\n",
    "df[df[\"Name\"].is]\n",
    "\n",
    "\n",
    "# メルカリを0, ヤフオクを1\n",
    "\n"
   ]
  }
 ],
 "metadata": {
  "kernelspec": {
   "display_name": "Python 3",
   "language": "python",
   "name": "python3"
  },
  "language_info": {
   "codemirror_mode": {
    "name": "ipython",
    "version": 3
   },
   "file_extension": ".py",
   "mimetype": "text/x-python",
   "name": "python",
   "nbconvert_exporter": "python",
   "pygments_lexer": "ipython3",
   "version": "3.7.4"
  }
 },
 "nbformat": 4,
 "nbformat_minor": 2
}
